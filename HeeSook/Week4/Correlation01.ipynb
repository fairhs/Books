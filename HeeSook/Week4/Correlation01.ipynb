{
 "cells": [
  {
   "cell_type": "code",
   "execution_count": 7,
   "metadata": {},
   "outputs": [
    {
     "name": "stdout",
     "output_type": "stream",
     "text": [
      "<class 'pandas.core.frame.DataFrame'>\n",
      "RangeIndex: 22223 entries, 0 to 22222\n",
      "Data columns (total 18 columns):\n",
      "CUSTID          22223 non-null int64\n",
      "GENDER          19711 non-null object\n",
      "DOB             22223 non-null object\n",
      "EDATE           22223 non-null object\n",
      "AGE             20715 non-null float64\n",
      "AGEGRP1         20715 non-null object\n",
      "AGEGRP2         20715 non-null object\n",
      "TV_REG          21758 non-null object\n",
      "NGROUP          21549 non-null object\n",
      "NEIGHBORHOOD    21549 non-null float64\n",
      "LCDATE          21942 non-null object\n",
      "ORGANICS        22223 non-null int64\n",
      "BILL            22223 non-null float64\n",
      "REGION          21758 non-null object\n",
      "CLASS           22223 non-null object\n",
      "ORGYN           22223 non-null int64\n",
      "AFFL            21138 non-null float64\n",
      "LTIME           21942 non-null float64\n",
      "dtypes: float64(5), int64(3), object(10)\n",
      "memory usage: 3.1+ MB\n",
      "None\n"
     ]
    }
   ],
   "source": [
    "import pandas as pd\n",
    "import matplotlib.pyplot as plt\n",
    "import seaborn as sns\n",
    "\n",
    "\n",
    "df = pd.read_csv('datasets/organics.csv')\n",
    "\n",
    "print(df.info())"
   ]
  },
  {
   "cell_type": "code",
   "execution_count": 66,
   "metadata": {},
   "outputs": [
    {
     "name": "stdout",
     "output_type": "stream",
     "text": [
      "<class 'pandas.core.frame.DataFrame'>\n",
      "RangeIndex: 22223 entries, 0 to 22222\n",
      "Data columns (total 18 columns):\n",
      "CUSTID          22223 non-null int64\n",
      "GENDER          19711 non-null float64\n",
      "DOB             22223 non-null object\n",
      "EDATE           22223 non-null object\n",
      "AGE             20715 non-null float64\n",
      "AGEGRP1         20715 non-null object\n",
      "AGEGRP2         20715 non-null object\n",
      "TV_REG          21758 non-null object\n",
      "NGROUP          21549 non-null float64\n",
      "NEIGHBORHOOD    21549 non-null float64\n",
      "LCDATE          21942 non-null object\n",
      "ORGANICS        22223 non-null int64\n",
      "BILL            22223 non-null float64\n",
      "REGION          21758 non-null object\n",
      "CLASS           22223 non-null object\n",
      "ORGYN           22223 non-null int64\n",
      "AFFL            21138 non-null float64\n",
      "LTIME           21942 non-null float64\n",
      "dtypes: float64(7), int64(3), object(8)\n",
      "memory usage: 3.1+ MB\n",
      "None\n"
     ]
    }
   ],
   "source": [
    "print(df.info())"
   ]
  },
  {
   "cell_type": "code",
   "execution_count": 47,
   "metadata": {},
   "outputs": [
    {
     "name": "stdout",
     "output_type": "stream",
     "text": [
      "[  1.   2.   3.  nan]\n"
     ]
    }
   ],
   "source": [
    "#df['id'].apply(str)\n",
    "#df['purchase'].astype(int)\n",
    "#https://pandas.pydata.org/pandas-docs/stable/api.html#api-dataframe-missing\n",
    "\n",
    "print(df['GENDER'].unique())\n",
    "df['GENDER'].replace(['nan', 'U','F','M'],[0,1,2,3]).astype(int)"
   ]
  },
  {
   "cell_type": "code",
   "execution_count": 64,
   "metadata": {},
   "outputs": [
    {
     "name": "stdout",
     "output_type": "stream",
     "text": [
      "[  3.   4.   6.   1.   2.   5.  nan   7.]\n"
     ]
    }
   ],
   "source": [
    "print(df['NGROUP'].unique())"
   ]
  },
  {
   "cell_type": "code",
   "execution_count": 63,
   "metadata": {},
   "outputs": [
    {
     "ename": "AttributeError",
     "evalue": "'NoneType' object has no attribute 'astype'",
     "output_type": "error",
     "traceback": [
      "\u001b[1;31m---------------------------------------------------------------------------\u001b[0m",
      "\u001b[1;31mAttributeError\u001b[0m                            Traceback (most recent call last)",
      "\u001b[1;32m<ipython-input-63-c691dd691e63>\u001b[0m in \u001b[0;36m<module>\u001b[1;34m()\u001b[0m\n\u001b[0;32m      1\u001b[0m \u001b[1;31m#print(df['NGROUP'].unique())\u001b[0m\u001b[1;33m\u001b[0m\u001b[1;33m\u001b[0m\u001b[0m\n\u001b[1;32m----> 2\u001b[1;33m \u001b[0mdf\u001b[0m\u001b[1;33m[\u001b[0m\u001b[1;34m'NGROUP'\u001b[0m\u001b[1;33m]\u001b[0m\u001b[1;33m=\u001b[0m \u001b[0mdf\u001b[0m\u001b[1;33m[\u001b[0m\u001b[1;34m'NGROUP'\u001b[0m\u001b[1;33m]\u001b[0m\u001b[1;33m.\u001b[0m\u001b[0mreplace\u001b[0m\u001b[1;33m(\u001b[0m\u001b[1;33m[\u001b[0m\u001b[1;34m' '\u001b[0m\u001b[1;33m,\u001b[0m\u001b[1;34m'A'\u001b[0m\u001b[1;33m,\u001b[0m\u001b[1;34m'B'\u001b[0m\u001b[1;33m,\u001b[0m\u001b[1;34m'C'\u001b[0m\u001b[1;33m,\u001b[0m\u001b[1;34m'D'\u001b[0m\u001b[1;33m,\u001b[0m\u001b[1;34m'E'\u001b[0m\u001b[1;33m,\u001b[0m\u001b[1;34m'F'\u001b[0m\u001b[1;33m,\u001b[0m\u001b[1;34m'U'\u001b[0m\u001b[1;33m]\u001b[0m\u001b[1;33m,\u001b[0m\u001b[1;33m[\u001b[0m\u001b[1;36m0\u001b[0m\u001b[1;33m,\u001b[0m\u001b[1;36m1\u001b[0m\u001b[1;33m,\u001b[0m\u001b[1;36m2\u001b[0m\u001b[1;33m,\u001b[0m\u001b[1;36m3\u001b[0m\u001b[1;33m,\u001b[0m\u001b[1;36m4\u001b[0m\u001b[1;33m,\u001b[0m\u001b[1;36m5\u001b[0m\u001b[1;33m,\u001b[0m\u001b[1;36m6\u001b[0m\u001b[1;33m,\u001b[0m\u001b[1;36m7\u001b[0m\u001b[1;33m]\u001b[0m \u001b[1;33m,\u001b[0m\u001b[0minplace\u001b[0m\u001b[1;33m=\u001b[0m\u001b[1;32mTrue\u001b[0m\u001b[1;33m)\u001b[0m\u001b[1;33m.\u001b[0m\u001b[0mastype\u001b[0m\u001b[1;33m(\u001b[0m\u001b[0mint\u001b[0m\u001b[1;33m)\u001b[0m\u001b[1;33m\u001b[0m\u001b[0m\n\u001b[0m",
      "\u001b[1;31mAttributeError\u001b[0m: 'NoneType' object has no attribute 'astype'"
     ]
    }
   ],
   "source": [
    "#print(df['NGROUP'].unique())\n",
    "df['NGROUP']= df['NGROUP'].replace([' ','A','B','C','D','E','F','U'],[0,1,2,3,4,5,6,7] ,inplace=True).astype(int)"
   ]
  },
  {
   "cell_type": "code",
   "execution_count": 16,
   "metadata": {},
   "outputs": [
    {
     "data": {
      "image/png": "[encoded data removed]",
      "text/plain": [
       "<matplotlib.figure.Figure at 0x25c98b06eb8>"
      ]
     },
     "metadata": {},
     "output_type": "display_data"
    }
   ],
   "source": [
    "dg = sns.countplot(data=df, x='TV_REG')\n",
    "plt.show()"
   ]
  },
  {
   "cell_type": "code",
   "execution_count": 3,
   "metadata": {},
   "outputs": [
    {
     "name": "stdout",
     "output_type": "stream",
     "text": [
      "NGROUP\n",
      "A    1850\n",
      "B    4144\n",
      "C    4566\n",
      "D    4378\n",
      "E    2608\n",
      "F    3949\n",
      "U      54\n",
      "Name: NEIGHBORHOOD, dtype: int64\n"
     ]
    }
   ],
   "source": [
    "dump_ngroup = df.groupby(['NGROUP'])['NEIGHBORHOOD'].count()\n",
    "\n",
    "print(dump_ngroup)"
   ]
  },
  {
   "cell_type": "code",
   "execution_count": 11,
   "metadata": {},
   "outputs": [
    {
     "data": {
      "image/png": "[encoded data removed]",
      "text/plain": [
       "<matplotlib.figure.Figure at 0x25c98b2ad68>"
      ]
     },
     "metadata": {},
     "output_type": "display_data"
    }
   ],
   "source": [
    "dg = sns.countplot(data=df, x='NEIGHBORHOOD')\n",
    "plt.show()"
   ]
  },
  {
   "cell_type": "code",
   "execution_count": 10,
   "metadata": {},
   "outputs": [
    {
     "data": {
      "image/png": "[encoded data removed]",
      "text/plain": [
       "<matplotlib.figure.Figure at 0x25c98b175c0>"
      ]
     },
     "metadata": {},
     "output_type": "display_data"
    }
   ],
   "source": [
    "dg = sns.countplot(data=df, x='NGROUP')\n",
    "plt.show()"
   ]
  },
  {
   "cell_type": "code",
   "execution_count": 11,
   "metadata": {},
   "outputs": [
    {
     "name": "stdout",
     "output_type": "stream",
     "text": [
      "NGROUP  NEIGHBORHOOD\n",
      "A       4.0              850\n",
      "        1.0              375\n",
      "        2.0              344\n",
      "        3.0              281\n",
      "B       12.0             810\n",
      "        8.0              716\n",
      "        14.0             589\n",
      "        10.0             564\n",
      "        6.0              319\n",
      "        5.0              271\n",
      "        9.0              241\n",
      "        15.0             216\n",
      "        13.0             166\n",
      "        11.0             139\n",
      "        7.0              113\n",
      "C       19.0             676\n",
      "        25.0             646\n",
      "        24.0             499\n",
      "        22.0             490\n",
      "        16.0             456\n",
      "        23.0             433\n",
      "        18.0             365\n",
      "        17.0             347\n",
      "        21.0             281\n",
      "        20.0             261\n",
      "        26.0             112\n",
      "D       27.0             938\n",
      "        28.0             717\n",
      "        35.0             666\n",
      "        32.0             650\n",
      "        34.0             475\n",
      "        33.0             297\n",
      "        30.0             296\n",
      "        31.0             210\n",
      "        29.0             129\n",
      "E       38.0             627\n",
      "        37.0             540\n",
      "        44.0             475\n",
      "        41.0             390\n",
      "        45.0             182\n",
      "        42.0             111\n",
      "        40.0              95\n",
      "        43.0              70\n",
      "        36.0              63\n",
      "        39.0              55\n",
      "F       52.0            1205\n",
      "        51.0             778\n",
      "        53.0             613\n",
      "        47.0             353\n",
      "        49.0             340\n",
      "        50.0             326\n",
      "        48.0             184\n",
      "        46.0             119\n",
      "        54.0              31\n",
      "U       55.0              54\n",
      "Name: NEIGHBORHOOD, dtype: int64\n"
     ]
    }
   ],
   "source": [
    "dump_ngroup = df.groupby(['NGROUP'])['NEIGHBORHOOD'].value_counts()\n",
    "print(dump_ngroup)"
   ]
  },
  {
   "cell_type": "code",
   "execution_count": 59,
   "metadata": {},
   "outputs": [
    {
     "name": "stdout",
     "output_type": "stream",
     "text": [
      "55\n",
      "850\n",
      "375\n",
      "55\n"
     ]
    }
   ],
   "source": [
    "dump_ngroup = df.groupby(['NGROUP'])['NEIGHBORHOOD'].value_counts()\n",
    "cnt = dump_ngroup.count()\n",
    "print(cnt)\n",
    "print(dump_ngroup[0])\n",
    "print(dump_ngroup[1])\n",
    "print(len(dump_ngroup))\n"
   ]
  },
  {
   "cell_type": "code",
   "execution_count": 48,
   "metadata": {
    "collapsed": true
   },
   "outputs": [],
   "source": [
    "import numpy as np\n",
    "#import matplotlib.pyplot as plt\n",
    "import plotly.plotly as py"
   ]
  },
  {
   "cell_type": "code",
   "execution_count": 30,
   "metadata": {},
   "outputs": [
    {
     "name": "stdout",
     "output_type": "stream",
     "text": [
      "['Gold' 'Silver' 'Tin' 'Platinum']\n"
     ]
    },
    {
     "data": {
      "image/png": "[encoded data removed]",
      "text/plain": [
       "<matplotlib.figure.Figure at 0x23ab9b73cc0>"
      ]
     },
     "metadata": {},
     "output_type": "display_data"
    }
   ],
   "source": [
    "print(df['CLASS'].unique())\n",
    "dg = sns.countplot(data=df, x='CLASS')\n",
    "plt.show()"
   ]
  },
  {
   "cell_type": "code",
   "execution_count": 28,
   "metadata": {},
   "outputs": [
    {
     "name": "stdout",
     "output_type": "stream",
     "text": [
      "[ 76.  49.  70.  65.  68.  72.  74.  62.  43.  60.  nan  51.  64.  37.  54.\n",
      "  42.  66.  46.  39.  75.  79.  50.  35.  71.  44.  31.  41.  58.  47.  61.\n",
      "  53.  57.  45.  55.  18.  56.  67.  78.  48.  52.  34.  40.  38.  77.  27.\n",
      "  36.  59.  63.  26.  69.  73.  33.  30.  29.  32.  22.  25.  28.  23.  20.\n",
      "  24.  19.  21.]\n"
     ]
    },
    {
     "data": {
      "image/png": "[encoded data removed]",
      "text/plain": [
       "<matplotlib.figure.Figure at 0x23ad6e90908>"
      ]
     },
     "metadata": {},
     "output_type": "display_data"
    }
   ],
   "source": [
    "print(df['AGE'].unique())\n",
    "dg = sns.countplot(data=df, x='AGE')\n",
    "plt.show()"
   ]
  },
  {
   "cell_type": "code",
   "execution_count": 29,
   "metadata": {},
   "outputs": [
    {
     "data": {
      "image/png": "[encoded data removed]",
      "text/plain": [
       "<matplotlib.figure.Figure at 0x23ab9b89518>"
      ]
     },
     "metadata": {},
     "output_type": "display_data"
    }
   ],
   "source": [
    "g = sns.distplot(df['AGE'].dropna())\n",
    "plt.show()"
   ]
  },
  {
   "cell_type": "code",
   "execution_count": 22,
   "metadata": {
    "scrolled": true
   },
   "outputs": [
    {
     "data": {
      "image/png": "[encoded data removed]",
      "text/plain": [
       "<matplotlib.figure.Figure at 0x23ab99d9d30>"
      ]
     },
     "metadata": {},
     "output_type": "display_data"
    }
   ],
   "source": [
    "xlabel = 'AGE'\n",
    "ylabel = 'ORGANICS'\n",
    "\n",
    "x = df[xlabel]\n",
    "y = df[ylabel]\n",
    "colors = 'red'\n",
    "area = 15\n",
    "\n",
    "plt.title( xlabel+' & ' + ylabel)\n",
    "plt.ylabel(ylabel)\n",
    "plt.xlabel(xlabel)\n",
    "\n",
    "plt.bar(x,y)\n",
    "#plt.scatter(x, y, s=area, c='red', alpha=0.5)\n",
    "#plt.scatter(x, y, s=area, c=colors)\n",
    "\n",
    "plt.show()\n",
    "#"
   ]
  },
  {
   "cell_type": "code",
   "execution_count": 14,
   "metadata": {},
   "outputs": [
    {
     "name": "stdout",
     "output_type": "stream",
     "text": [
      "['Wales & West' 'Midlands' 'N West' 'East' 'N East' nan 'London'\n",
      " 'S & S East' 'C Scotland' 'Ulster' 'S West' 'Yorkshire' 'Border' 'N Scot']\n"
     ]
    }
   ],
   "source": [
    "# unique values in DemAge\n",
    "print(df['TV_REG'].unique())"
   ]
  },
  {
   "cell_type": "code",
   "execution_count": 15,
   "metadata": {},
   "outputs": [
    {
     "name": "stdout",
     "output_type": "stream",
     "text": [
      "[ 10.   4.   5.  11.   9.  13.  14.   7.   6.  16.   8.  nan   3.  15.  12.\n",
      "  19.   2.  17.  18.  20.  22.  26.  25.  24.   1.  21.  23.  27.  29.  30.\n",
      "  31.   0.  34.  28.]\n"
     ]
    }
   ],
   "source": [
    "# unique values in DemAge\n",
    "print(df['AFFL'].unique())"
   ]
  },
  {
   "cell_type": "code",
   "execution_count": 12,
   "metadata": {},
   "outputs": [
    {
     "name": "stdout",
     "output_type": "stream",
     "text": [
      "['C' 'D' 'F' 'A' 'B' 'E' nan 'U']\n"
     ]
    }
   ],
   "source": [
    "# unique values in DemAge\n",
    "print(df['NGROUP'].unique())"
   ]
  },
  {
   "cell_type": "code",
   "execution_count": 13,
   "metadata": {},
   "outputs": [
    {
     "name": "stdout",
     "output_type": "stream",
     "text": [
      "[ 16.  35.  27.  51.   4.  28.   3.  32.  49.  52.  24.  19.  18.  15.  40.\n",
      "   8.  37.  30.  nan  12.  53.   5.  48.  50.  14.  38.  31.  44.  34.  11.\n",
      "  22.  42.   1.  45.  41.  25.  10.  47.  23.  17.  36.  21.  20.  26.   2.\n",
      "  33.  43.  13.   6.  29.   7.  46.   9.  55.  39.  54.]\n"
     ]
    }
   ],
   "source": [
    "# unique values in DemAge\n",
    "print(df['NEIGHBORHOOD'].unique())"
   ]
  },
  {
   "cell_type": "code",
   "execution_count": 28,
   "metadata": {},
   "outputs": [
    {
     "name": "stdout",
     "output_type": "stream",
     "text": [
      "[ 10.   4.   5.  11.   9.  13.  14.   7.   6.  16.   8.  nan   3.  15.  12.\n",
      "  19.   2.  17.  18.  20.  22.  26.  25.  24.   1.  21.  23.  27.  29.  30.\n",
      "  31.   0.  34.  28.]\n"
     ]
    }
   ],
   "source": [
    "# unique values in DemAge\n",
    "print(df['AFFL'].unique())"
   ]
  },
  {
   "cell_type": "code",
   "execution_count": 29,
   "metadata": {},
   "outputs": [
    {
     "name": "stdout",
     "output_type": "stream",
     "text": [
      "[  1.60000000e+04   6.00000000e+03   2.00000000e-02 ...,   6.80010000e+02\n",
      "   3.33692000e+03   6.05306000e+03]\n"
     ]
    }
   ],
   "source": [
    "# unique values in DemAge\n",
    "print(df['BILL'].unique())"
   ]
  },
  {
   "cell_type": "code",
   "execution_count": 23,
   "metadata": {},
   "outputs": [
    {
     "data": {
      "image/png": "[encoded data removed]",
      "text/plain": [
       "<matplotlib.figure.Figure at 0x23ab99cf3c8>"
      ]
     },
     "metadata": {},
     "output_type": "display_data"
    }
   ],
   "source": [
    "import numpy as np\n",
    "#import matplotlib.pyplot as plt\n",
    "import plotly.plotly as py\n",
    "\n",
    "ylabel = 'ORGYN'\n",
    "xlabel = 'NEIGHBORHOOD'\n",
    "\n",
    "x = df[xlabel]\n",
    "y = df[ylabel]\n",
    "colors = 'red'\n",
    "area = 15\n",
    "\n",
    "plt.title( xlabel+' & ' + ylabel)\n",
    "plt.ylabel(ylabel)\n",
    "plt.xlabel(xlabel)\n",
    "\n",
    "plt.scatter(x, y, s=area, c=colors)\n",
    "plt.show()"
   ]
  },
  {
   "cell_type": "code",
   "execution_count": 68,
   "metadata": {},
   "outputs": [
    {
     "name": "stdout",
     "output_type": "stream",
     "text": [
      "[ 76.  49.  70.  65.  68.  72.  74.  62.  43.  60.  nan  51.  64.  37.  54.\n",
      "  42.  66.  46.  39.  75.  79.  50.  35.  71.  44.  31.  41.  58.  47.  61.\n",
      "  53.  57.  45.  55.  18.  56.  67.  78.  48.  52.  34.  40.  38.  77.  27.\n",
      "  36.  59.  63.  26.  69.  73.  33.  30.  29.  32.  22.  25.  28.  23.  20.\n",
      "  24.  19.  21.]\n"
     ]
    }
   ],
   "source": [
    "\n",
    "# unique values in DemAge\n",
    "print(df['AGE'].unique())"
   ]
  },
  {
   "cell_type": "code",
   "execution_count": 25,
   "metadata": {},
   "outputs": [
    {
     "data": {
      "image/png": "[encoded data removed]",
      "text/plain": [
       "<matplotlib.figure.Figure at 0x27949800d68>"
      ]
     },
     "metadata": {},
     "output_type": "display_data"
    }
   ],
   "source": [
    "import numpy as np\n",
    "#import matplotlib.pyplot as plt\n",
    "import plotly.plotly as py\n",
    "\n",
    "xlabel = 'AGE'\n",
    "ylable = 'BILL'\n",
    "\n",
    "x = df[xlabel]\n",
    "y = df[ylable]\n",
    "colors = 'red'\n",
    "area = 15\n",
    "\n",
    "plt.title( xlabel+' & ' + ylable)\n",
    "plt.ylabel(ylable)\n",
    "plt.xlabel(xlabel)\n",
    "\n",
    "#plt.scatter(x, y, s=area, c='red', alpha=0.5)\n",
    "plt.scatter(x, y, s=area, c=colors)\n",
    "plt.show()"
   ]
  },
  {
   "cell_type": "code",
   "execution_count": 22,
   "metadata": {},
   "outputs": [
    {
     "data": {
      "text/plain": [
       "AGE   BILL    \n",
       "18.0  600.00      1\n",
       "      1000.00     1\n",
       "      1875.00     1\n",
       "      3000.00     1\n",
       "      6000.00     1\n",
       "19.0  1000.00     5\n",
       "      1500.00     2\n",
       "      290.41      1\n",
       "      5000.00     1\n",
       "      6000.00     1\n",
       "20.0  1000.00     2\n",
       "      103.83      1\n",
       "      1208.13     1\n",
       "      1900.00     1\n",
       "      2000.00     1\n",
       "      3000.00     1\n",
       "      4000.00     1\n",
       "      6000.00     1\n",
       "      18000.00    1\n",
       "21.0  1000.00     3\n",
       "      3000.00     2\n",
       "      6000.00     2\n",
       "      2500.00     1\n",
       "22.0  6000.00     4\n",
       "      1000.00     3\n",
       "      2000.00     2\n",
       "      100.00      1\n",
       "      131.70      1\n",
       "      278.78      1\n",
       "      360.00      1\n",
       "                 ..\n",
       "79.0  5420.00     1\n",
       "      5500.00     1\n",
       "      6053.35     1\n",
       "      6107.64     1\n",
       "      7031.91     1\n",
       "      8000.00     1\n",
       "      8400.00     1\n",
       "      9000.00     1\n",
       "      9038.66     1\n",
       "      10136.00    1\n",
       "      10220.18    1\n",
       "      11000.00    1\n",
       "      11300.00    1\n",
       "      12053.34    1\n",
       "      12053.35    1\n",
       "      12158.67    1\n",
       "      15000.00    1\n",
       "      15300.00    1\n",
       "      15600.00    1\n",
       "      16105.32    1\n",
       "      17999.99    1\n",
       "      18500.00    1\n",
       "      27000.00    1\n",
       "      27017.73    1\n",
       "      30053.35    1\n",
       "      32050.00    1\n",
       "      41000.00    1\n",
       "      48212.02    1\n",
       "      50093.63    1\n",
       "      72681.70    1\n",
       "Name: BILL, Length: 6009, dtype: int64"
      ]
     },
     "execution_count": 22,
     "metadata": {},
     "output_type": "execute_result"
    }
   ],
   "source": [
    "df.groupby(['AGE'])['BILL'].value_counts()"
   ]
  },
  {
   "cell_type": "code",
   "execution_count": 15,
   "metadata": {
    "scrolled": true
   },
   "outputs": [
    {
     "data": {
      "image/png": "[encoded data removed]",
      "text/plain": [
       "<matplotlib.figure.Figure at 0x11c729930f0>"
      ]
     },
     "metadata": {},
     "output_type": "display_data"
    }
   ],
   "source": [
    "g = sns.distplot(df['NEIGHBORHOOD'].dropna())\n",
    "plt.show()"
   ]
  },
  {
   "cell_type": "code",
   "execution_count": 34,
   "metadata": {},
   "outputs": [
    {
     "data": {
      "image/png": "[encoded data removed]",
      "text/plain": [
       "<matplotlib.figure.Figure at 0x11c733f9550>"
      ]
     },
     "metadata": {},
     "output_type": "display_data"
    }
   ],
   "source": [
    "g = sns.distplot(df['AGE'].dropna())\n",
    "plt.show()"
   ]
  },
  {
   "cell_type": "code",
   "execution_count": 26,
   "metadata": {},
   "outputs": [
    {
     "data": {
      "image/png": "[encoded data removed]",
      "text/plain": [
       "<matplotlib.figure.Figure at 0x23ad6ea7da0>"
      ]
     },
     "metadata": {},
     "output_type": "display_data"
    },
    {
     "data": {
      "image/png": "[encoded data removed]",
      "text/plain": [
       "<matplotlib.figure.Figure at 0x23ad6f64a90>"
      ]
     },
     "metadata": {},
     "output_type": "display_data"
    }
   ],
   "source": [
    "g = sns.boxplot(x='AGEGRP2', y='ORGYN', data=df)\n",
    "plt.show()\n",
    "\n",
    "g = sns.boxplot(x='AGEGRP1', y='ORGYN', data=df)\n",
    "plt.show()"
   ]
  },
  {
   "cell_type": "code",
   "execution_count": 25,
   "metadata": {},
   "outputs": [
    {
     "data": {
      "image/png": "[encoded data removed]",
      "text/plain": [
       "<matplotlib.figure.Figure at 0x23ad6ea77b8>"
      ]
     },
     "metadata": {},
     "output_type": "display_data"
    }
   ],
   "source": [
    "g = sns.boxplot(x='AGEGRP1', y='ORGYN', data=df)\n",
    "plt.show()"
   ]
  },
  {
   "cell_type": "code",
   "execution_count": 14,
   "metadata": {},
   "outputs": [
    {
     "data": {
      "image/png": "[encoded data removed]",
      "text/plain": [
       "<matplotlib.figure.Figure at 0x279494bb780>"
      ]
     },
     "metadata": {},
     "output_type": "display_data"
    }
   ],
   "source": [
    "g = sns.boxplot(x='AGEGRP2', y='ORGANICS', data=df)\n",
    "plt.show()"
   ]
  },
  {
   "cell_type": "code",
   "execution_count": 29,
   "metadata": {},
   "outputs": [
    {
     "data": {
      "image/png": "[encoded data removed]",
      "text/plain": [
       "<matplotlib.figure.Figure at 0x11c723f1e10>"
      ]
     },
     "metadata": {},
     "output_type": "display_data"
    }
   ],
   "source": [
    "g = sns.boxplot(x='CLASS', y='ORGYN', data=df)\n",
    "plt.show()"
   ]
  },
  {
   "cell_type": "code",
   "execution_count": 28,
   "metadata": {},
   "outputs": [
    {
     "data": {
      "image/png": "[encoded data removed]",
      "text/plain": [
       "<matplotlib.figure.Figure at 0x11c723d17b8>"
      ]
     },
     "metadata": {},
     "output_type": "display_data"
    }
   ],
   "source": [
    "g = sns.boxplot(x='CLASS', y='ORGANICS', data=df)\n",
    "plt.show()"
   ]
  },
  {
   "cell_type": "code",
   "execution_count": 5,
   "metadata": {},
   "outputs": [
    {
     "data": {
      "image/png": "[encoded data removed]",
      "text/plain": [
       "<matplotlib.figure.Figure at 0x279452490f0>"
      ]
     },
     "metadata": {},
     "output_type": "display_data"
    }
   ],
   "source": [
    "g = sns.countplot(data = df, x = 'CLASS')\n",
    "plt.show()"
   ]
  },
  {
   "cell_type": "code",
   "execution_count": 1,
   "metadata": {},
   "outputs": [
    {
     "ename": "NameError",
     "evalue": "name 'sns' is not defined",
     "output_type": "error",
     "traceback": [
      "\u001b[1;31m---------------------------------------------------------------------------\u001b[0m",
      "\u001b[1;31mNameError\u001b[0m                                 Traceback (most recent call last)",
      "\u001b[1;32m<ipython-input-1-086f199deedc>\u001b[0m in \u001b[0;36m<module>\u001b[1;34m()\u001b[0m\n\u001b[1;32m----> 1\u001b[1;33m \u001b[0mg\u001b[0m \u001b[1;33m=\u001b[0m \u001b[0msns\u001b[0m\u001b[1;33m.\u001b[0m\u001b[0mcountplot\u001b[0m\u001b[1;33m(\u001b[0m\u001b[0mdata\u001b[0m \u001b[1;33m=\u001b[0m \u001b[0mdf\u001b[0m\u001b[1;33m,\u001b[0m \u001b[0mx\u001b[0m \u001b[1;33m=\u001b[0m \u001b[1;34m'GENDER'\u001b[0m\u001b[1;33m)\u001b[0m\u001b[1;33m\u001b[0m\u001b[0m\n\u001b[0m\u001b[0;32m      2\u001b[0m \u001b[0mplt\u001b[0m\u001b[1;33m.\u001b[0m\u001b[0mshow\u001b[0m\u001b[1;33m(\u001b[0m\u001b[1;33m)\u001b[0m\u001b[1;33m\u001b[0m\u001b[0m\n",
      "\u001b[1;31mNameError\u001b[0m: name 'sns' is not defined"
     ]
    }
   ],
   "source": []
  },
  {
   "cell_type": "code",
   "execution_count": 8,
   "metadata": {},
   "outputs": [
    {
     "data": {
      "image/png": "[encoded data removed]",
      "text/plain": [
       "<matplotlib.figure.Figure at 0x279493703c8>"
      ]
     },
     "metadata": {},
     "output_type": "display_data"
    }
   ],
   "source": [
    "g = sns.distplot(df['AFFL'].dropna())\n",
    "plt.show()"
   ]
  },
  {
   "cell_type": "code",
   "execution_count": 11,
   "metadata": {},
   "outputs": [
    {
     "name": "stdout",
     "output_type": "stream",
     "text": [
      "[ 10.   4.   5.  11.   9.  13.  14.   7.   6.  16.   8.  nan   3.  15.  12.\n",
      "  19.   2.  17.  18.  20.  22.  26.  25.  24.   1.  21.  23.  27.  29.  30.\n",
      "  31.   0.  34.  28.]\n"
     ]
    }
   ],
   "source": [
    "print(df['AFFL'].unique())"
   ]
  },
  {
   "cell_type": "code",
   "execution_count": 10,
   "metadata": {},
   "outputs": [
    {
     "data": {
      "image/png": "[encoded data removed]",
      "text/plain": [
       "<matplotlib.figure.Figure at 0x2794936bc18>"
      ]
     },
     "metadata": {},
     "output_type": "display_data"
    }
   ],
   "source": [
    "g = sns.countplot(data = df, x = 'AFFL')\n",
    "plt.show()"
   ]
  },
  {
   "cell_type": "code",
   "execution_count": 6,
   "metadata": {},
   "outputs": [
    {
     "data": {
      "image/png": "[encoded data removed]",
      "text/plain": [
       "<matplotlib.figure.Figure at 0x279452492b0>"
      ]
     },
     "metadata": {},
     "output_type": "display_data"
    }
   ],
   "source": [
    "g = sns.boxplot(x='CLASS', y='AFFL', data=df)\n",
    "plt.show()"
   ]
  },
  {
   "cell_type": "code",
   "execution_count": 7,
   "metadata": {},
   "outputs": [
    {
     "data": {
      "image/png": "[encoded data removed]",
      "text/plain": [
       "<matplotlib.figure.Figure at 0x2794675b198>"
      ]
     },
     "metadata": {},
     "output_type": "display_data"
    }
   ],
   "source": [
    "g = sns.countplot(data = df, x = 'GENDER')\n",
    "plt.show()"
   ]
  },
  {
   "cell_type": "code",
   "execution_count": 38,
   "metadata": {},
   "outputs": [
    {
     "data": {
      "text/plain": [
       "NGROUP  NEIGHBORHOOD\n",
       "A       4.0              850\n",
       "        1.0              375\n",
       "        2.0              344\n",
       "        3.0              281\n",
       "B       12.0             810\n",
       "        8.0              716\n",
       "        14.0             589\n",
       "        10.0             564\n",
       "        6.0              319\n",
       "        5.0              271\n",
       "        9.0              241\n",
       "        15.0             216\n",
       "        13.0             166\n",
       "        11.0             139\n",
       "        7.0              113\n",
       "C       19.0             676\n",
       "        25.0             646\n",
       "        24.0             499\n",
       "        22.0             490\n",
       "        16.0             456\n",
       "        23.0             433\n",
       "        18.0             365\n",
       "        17.0             347\n",
       "        21.0             281\n",
       "        20.0             261\n",
       "        26.0             112\n",
       "D       27.0             938\n",
       "        28.0             717\n",
       "        35.0             666\n",
       "        32.0             650\n",
       "        34.0             475\n",
       "        33.0             297\n",
       "        30.0             296\n",
       "        31.0             210\n",
       "        29.0             129\n",
       "E       38.0             627\n",
       "        37.0             540\n",
       "        44.0             475\n",
       "        41.0             390\n",
       "        45.0             182\n",
       "        42.0             111\n",
       "        40.0              95\n",
       "        43.0              70\n",
       "        36.0              63\n",
       "        39.0              55\n",
       "F       52.0            1205\n",
       "        51.0             778\n",
       "        53.0             613\n",
       "        47.0             353\n",
       "        49.0             340\n",
       "        50.0             326\n",
       "        48.0             184\n",
       "        46.0             119\n",
       "        54.0              31\n",
       "U       55.0              54\n",
       "Name: NEIGHBORHOOD, dtype: int64"
      ]
     },
     "execution_count": 38,
     "metadata": {},
     "output_type": "execute_result"
    }
   ],
   "source": [
    "df.groupby(['NGROUP'])['NEIGHBORHOOD'].value_counts()"
   ]
  },
  {
   "cell_type": "code",
   "execution_count": 13,
   "metadata": {},
   "outputs": [
    {
     "data": {
      "text/html": [
       "<div>\n",
       "<style>\n",
       "    .dataframe thead tr:only-child th {\n",
       "        text-align: right;\n",
       "    }\n",
       "\n",
       "    .dataframe thead th {\n",
       "        text-align: left;\n",
       "    }\n",
       "\n",
       "    .dataframe tbody tr th {\n",
       "        vertical-align: top;\n",
       "    }\n",
       "</style>\n",
       "<table border=\"1\" class=\"dataframe\">\n",
       "  <thead>\n",
       "    <tr style=\"text-align: right;\">\n",
       "      <th></th>\n",
       "      <th>AGEGRP1</th>\n",
       "      <th>AGEGRP2</th>\n",
       "    </tr>\n",
       "  </thead>\n",
       "  <tbody>\n",
       "    <tr>\n",
       "      <th>0</th>\n",
       "      <td>60-80</td>\n",
       "      <td>70-80</td>\n",
       "    </tr>\n",
       "    <tr>\n",
       "      <th>1</th>\n",
       "      <td>40-60</td>\n",
       "      <td>40-50</td>\n",
       "    </tr>\n",
       "    <tr>\n",
       "      <th>2</th>\n",
       "      <td>60-80</td>\n",
       "      <td>70-80</td>\n",
       "    </tr>\n",
       "    <tr>\n",
       "      <th>3</th>\n",
       "      <td>60-80</td>\n",
       "      <td>60-70</td>\n",
       "    </tr>\n",
       "    <tr>\n",
       "      <th>4</th>\n",
       "      <td>60-80</td>\n",
       "      <td>60-70</td>\n",
       "    </tr>\n",
       "    <tr>\n",
       "      <th>5</th>\n",
       "      <td>60-80</td>\n",
       "      <td>70-80</td>\n",
       "    </tr>\n",
       "    <tr>\n",
       "      <th>6</th>\n",
       "      <td>60-80</td>\n",
       "      <td>70-80</td>\n",
       "    </tr>\n",
       "    <tr>\n",
       "      <th>7</th>\n",
       "      <td>60-80</td>\n",
       "      <td>60-70</td>\n",
       "    </tr>\n",
       "    <tr>\n",
       "      <th>8</th>\n",
       "      <td>60-80</td>\n",
       "      <td>60-70</td>\n",
       "    </tr>\n",
       "    <tr>\n",
       "      <th>9</th>\n",
       "      <td>40-60</td>\n",
       "      <td>40-50</td>\n",
       "    </tr>\n",
       "    <tr>\n",
       "      <th>10</th>\n",
       "      <td>60-80</td>\n",
       "      <td>60-70</td>\n",
       "    </tr>\n",
       "    <tr>\n",
       "      <th>11</th>\n",
       "      <td>NaN</td>\n",
       "      <td>NaN</td>\n",
       "    </tr>\n",
       "    <tr>\n",
       "      <th>12</th>\n",
       "      <td>40-60</td>\n",
       "      <td>50-60</td>\n",
       "    </tr>\n",
       "    <tr>\n",
       "      <th>13</th>\n",
       "      <td>60-80</td>\n",
       "      <td>60-70</td>\n",
       "    </tr>\n",
       "    <tr>\n",
       "      <th>14</th>\n",
       "      <td>20-40</td>\n",
       "      <td>30-40</td>\n",
       "    </tr>\n",
       "    <tr>\n",
       "      <th>15</th>\n",
       "      <td>40-60</td>\n",
       "      <td>50-60</td>\n",
       "    </tr>\n",
       "    <tr>\n",
       "      <th>16</th>\n",
       "      <td>60-80</td>\n",
       "      <td>70-80</td>\n",
       "    </tr>\n",
       "    <tr>\n",
       "      <th>17</th>\n",
       "      <td>40-60</td>\n",
       "      <td>40-50</td>\n",
       "    </tr>\n",
       "    <tr>\n",
       "      <th>18</th>\n",
       "      <td>NaN</td>\n",
       "      <td>NaN</td>\n",
       "    </tr>\n",
       "    <tr>\n",
       "      <th>19</th>\n",
       "      <td>40-60</td>\n",
       "      <td>40-50</td>\n",
       "    </tr>\n",
       "    <tr>\n",
       "      <th>20</th>\n",
       "      <td>60-80</td>\n",
       "      <td>60-70</td>\n",
       "    </tr>\n",
       "    <tr>\n",
       "      <th>21</th>\n",
       "      <td>60-80</td>\n",
       "      <td>70-80</td>\n",
       "    </tr>\n",
       "    <tr>\n",
       "      <th>22</th>\n",
       "      <td>60-80</td>\n",
       "      <td>70-80</td>\n",
       "    </tr>\n",
       "    <tr>\n",
       "      <th>23</th>\n",
       "      <td>60-80</td>\n",
       "      <td>60-70</td>\n",
       "    </tr>\n",
       "    <tr>\n",
       "      <th>24</th>\n",
       "      <td>40-60</td>\n",
       "      <td>40-50</td>\n",
       "    </tr>\n",
       "    <tr>\n",
       "      <th>25</th>\n",
       "      <td>20-40</td>\n",
       "      <td>30-40</td>\n",
       "    </tr>\n",
       "    <tr>\n",
       "      <th>26</th>\n",
       "      <td>60-80</td>\n",
       "      <td>70-80</td>\n",
       "    </tr>\n",
       "    <tr>\n",
       "      <th>27</th>\n",
       "      <td>60-80</td>\n",
       "      <td>70-80</td>\n",
       "    </tr>\n",
       "    <tr>\n",
       "      <th>28</th>\n",
       "      <td>40-60</td>\n",
       "      <td>40-50</td>\n",
       "    </tr>\n",
       "    <tr>\n",
       "      <th>29</th>\n",
       "      <td>60-80</td>\n",
       "      <td>60-70</td>\n",
       "    </tr>\n",
       "    <tr>\n",
       "      <th>...</th>\n",
       "      <td>...</td>\n",
       "      <td>...</td>\n",
       "    </tr>\n",
       "    <tr>\n",
       "      <th>22193</th>\n",
       "      <td>60-80</td>\n",
       "      <td>70-80</td>\n",
       "    </tr>\n",
       "    <tr>\n",
       "      <th>22194</th>\n",
       "      <td>20-40</td>\n",
       "      <td>30-40</td>\n",
       "    </tr>\n",
       "    <tr>\n",
       "      <th>22195</th>\n",
       "      <td>NaN</td>\n",
       "      <td>NaN</td>\n",
       "    </tr>\n",
       "    <tr>\n",
       "      <th>22196</th>\n",
       "      <td>NaN</td>\n",
       "      <td>NaN</td>\n",
       "    </tr>\n",
       "    <tr>\n",
       "      <th>22197</th>\n",
       "      <td>60-80</td>\n",
       "      <td>70-80</td>\n",
       "    </tr>\n",
       "    <tr>\n",
       "      <th>22198</th>\n",
       "      <td>20-40</td>\n",
       "      <td>30-40</td>\n",
       "    </tr>\n",
       "    <tr>\n",
       "      <th>22199</th>\n",
       "      <td>40-60</td>\n",
       "      <td>40-50</td>\n",
       "    </tr>\n",
       "    <tr>\n",
       "      <th>22200</th>\n",
       "      <td>40-60</td>\n",
       "      <td>50-60</td>\n",
       "    </tr>\n",
       "    <tr>\n",
       "      <th>22201</th>\n",
       "      <td>60-80</td>\n",
       "      <td>60-70</td>\n",
       "    </tr>\n",
       "    <tr>\n",
       "      <th>22202</th>\n",
       "      <td>60-80</td>\n",
       "      <td>60-70</td>\n",
       "    </tr>\n",
       "    <tr>\n",
       "      <th>22203</th>\n",
       "      <td>20-40</td>\n",
       "      <td>30-40</td>\n",
       "    </tr>\n",
       "    <tr>\n",
       "      <th>22204</th>\n",
       "      <td>60-80</td>\n",
       "      <td>60-70</td>\n",
       "    </tr>\n",
       "    <tr>\n",
       "      <th>22205</th>\n",
       "      <td>20-40</td>\n",
       "      <td>30-40</td>\n",
       "    </tr>\n",
       "    <tr>\n",
       "      <th>22206</th>\n",
       "      <td>20-40</td>\n",
       "      <td>30-40</td>\n",
       "    </tr>\n",
       "    <tr>\n",
       "      <th>22207</th>\n",
       "      <td>40-60</td>\n",
       "      <td>40-50</td>\n",
       "    </tr>\n",
       "    <tr>\n",
       "      <th>22208</th>\n",
       "      <td>20-40</td>\n",
       "      <td>30-40</td>\n",
       "    </tr>\n",
       "    <tr>\n",
       "      <th>22209</th>\n",
       "      <td>40-60</td>\n",
       "      <td>40-50</td>\n",
       "    </tr>\n",
       "    <tr>\n",
       "      <th>22210</th>\n",
       "      <td>60-80</td>\n",
       "      <td>60-70</td>\n",
       "    </tr>\n",
       "    <tr>\n",
       "      <th>22211</th>\n",
       "      <td>20-40</td>\n",
       "      <td>30-40</td>\n",
       "    </tr>\n",
       "    <tr>\n",
       "      <th>22212</th>\n",
       "      <td>40-60</td>\n",
       "      <td>50-60</td>\n",
       "    </tr>\n",
       "    <tr>\n",
       "      <th>22213</th>\n",
       "      <td>40-60</td>\n",
       "      <td>40-50</td>\n",
       "    </tr>\n",
       "    <tr>\n",
       "      <th>22214</th>\n",
       "      <td>40-60</td>\n",
       "      <td>40-50</td>\n",
       "    </tr>\n",
       "    <tr>\n",
       "      <th>22215</th>\n",
       "      <td>NaN</td>\n",
       "      <td>NaN</td>\n",
       "    </tr>\n",
       "    <tr>\n",
       "      <th>22216</th>\n",
       "      <td>40-60</td>\n",
       "      <td>40-50</td>\n",
       "    </tr>\n",
       "    <tr>\n",
       "      <th>22217</th>\n",
       "      <td>NaN</td>\n",
       "      <td>NaN</td>\n",
       "    </tr>\n",
       "    <tr>\n",
       "      <th>22218</th>\n",
       "      <td>60-80</td>\n",
       "      <td>60-70</td>\n",
       "    </tr>\n",
       "    <tr>\n",
       "      <th>22219</th>\n",
       "      <td>60-80</td>\n",
       "      <td>70-80</td>\n",
       "    </tr>\n",
       "    <tr>\n",
       "      <th>22220</th>\n",
       "      <td>60-80</td>\n",
       "      <td>70-80</td>\n",
       "    </tr>\n",
       "    <tr>\n",
       "      <th>22221</th>\n",
       "      <td>60-80</td>\n",
       "      <td>60-70</td>\n",
       "    </tr>\n",
       "    <tr>\n",
       "      <th>22222</th>\n",
       "      <td>60-80</td>\n",
       "      <td>70-80</td>\n",
       "    </tr>\n",
       "  </tbody>\n",
       "</table>\n",
       "<p>22223 rows × 2 columns</p>\n",
       "</div>"
      ],
      "text/plain": [
       "      AGEGRP1 AGEGRP2\n",
       "0       60-80   70-80\n",
       "1       40-60   40-50\n",
       "2       60-80   70-80\n",
       "3       60-80   60-70\n",
       "4       60-80   60-70\n",
       "5       60-80   70-80\n",
       "6       60-80   70-80\n",
       "7       60-80   60-70\n",
       "8       60-80   60-70\n",
       "9       40-60   40-50\n",
       "10      60-80   60-70\n",
       "11        NaN     NaN\n",
       "12      40-60   50-60\n",
       "13      60-80   60-70\n",
       "14      20-40   30-40\n",
       "15      40-60   50-60\n",
       "16      60-80   70-80\n",
       "17      40-60   40-50\n",
       "18        NaN     NaN\n",
       "19      40-60   40-50\n",
       "20      60-80   60-70\n",
       "21      60-80   70-80\n",
       "22      60-80   70-80\n",
       "23      60-80   60-70\n",
       "24      40-60   40-50\n",
       "25      20-40   30-40\n",
       "26      60-80   70-80\n",
       "27      60-80   70-80\n",
       "28      40-60   40-50\n",
       "29      60-80   60-70\n",
       "...       ...     ...\n",
       "22193   60-80   70-80\n",
       "22194   20-40   30-40\n",
       "22195     NaN     NaN\n",
       "22196     NaN     NaN\n",
       "22197   60-80   70-80\n",
       "22198   20-40   30-40\n",
       "22199   40-60   40-50\n",
       "22200   40-60   50-60\n",
       "22201   60-80   60-70\n",
       "22202   60-80   60-70\n",
       "22203   20-40   30-40\n",
       "22204   60-80   60-70\n",
       "22205   20-40   30-40\n",
       "22206   20-40   30-40\n",
       "22207   40-60   40-50\n",
       "22208   20-40   30-40\n",
       "22209   40-60   40-50\n",
       "22210   60-80   60-70\n",
       "22211   20-40   30-40\n",
       "22212   40-60   50-60\n",
       "22213   40-60   40-50\n",
       "22214   40-60   40-50\n",
       "22215     NaN     NaN\n",
       "22216   40-60   40-50\n",
       "22217     NaN     NaN\n",
       "22218   60-80   60-70\n",
       "22219   60-80   70-80\n",
       "22220   60-80   70-80\n",
       "22221   60-80   60-70\n",
       "22222   60-80   70-80\n",
       "\n",
       "[22223 rows x 2 columns]"
      ]
     },
     "execution_count": 13,
     "metadata": {},
     "output_type": "execute_result"
    }
   ],
   "source": [
    "pd.concat([df.AGEGRP1, df.AGEGRP2], axis=1)"
   ]
  },
  {
   "cell_type": "code",
   "execution_count": 20,
   "metadata": {},
   "outputs": [
    {
     "data": {
      "text/html": [
       "<div>\n",
       "<style>\n",
       "    .dataframe thead tr:only-child th {\n",
       "        text-align: right;\n",
       "    }\n",
       "\n",
       "    .dataframe thead th {\n",
       "        text-align: left;\n",
       "    }\n",
       "\n",
       "    .dataframe tbody tr th {\n",
       "        vertical-align: top;\n",
       "    }\n",
       "</style>\n",
       "<table border=\"1\" class=\"dataframe\">\n",
       "  <thead>\n",
       "    <tr style=\"text-align: right;\">\n",
       "      <th></th>\n",
       "      <th>NEIGHBORHOOD</th>\n",
       "      <th>NGROUP</th>\n",
       "    </tr>\n",
       "  </thead>\n",
       "  <tbody>\n",
       "    <tr>\n",
       "      <th>0</th>\n",
       "      <td>16.0</td>\n",
       "      <td>C</td>\n",
       "    </tr>\n",
       "    <tr>\n",
       "      <th>1</th>\n",
       "      <td>35.0</td>\n",
       "      <td>D</td>\n",
       "    </tr>\n",
       "    <tr>\n",
       "      <th>2</th>\n",
       "      <td>27.0</td>\n",
       "      <td>D</td>\n",
       "    </tr>\n",
       "    <tr>\n",
       "      <th>3</th>\n",
       "      <td>51.0</td>\n",
       "      <td>F</td>\n",
       "    </tr>\n",
       "    <tr>\n",
       "      <th>4</th>\n",
       "      <td>4.0</td>\n",
       "      <td>A</td>\n",
       "    </tr>\n",
       "    <tr>\n",
       "      <th>5</th>\n",
       "      <td>28.0</td>\n",
       "      <td>D</td>\n",
       "    </tr>\n",
       "    <tr>\n",
       "      <th>6</th>\n",
       "      <td>3.0</td>\n",
       "      <td>A</td>\n",
       "    </tr>\n",
       "    <tr>\n",
       "      <th>7</th>\n",
       "      <td>32.0</td>\n",
       "      <td>D</td>\n",
       "    </tr>\n",
       "    <tr>\n",
       "      <th>8</th>\n",
       "      <td>49.0</td>\n",
       "      <td>F</td>\n",
       "    </tr>\n",
       "    <tr>\n",
       "      <th>9</th>\n",
       "      <td>49.0</td>\n",
       "      <td>F</td>\n",
       "    </tr>\n",
       "    <tr>\n",
       "      <th>10</th>\n",
       "      <td>52.0</td>\n",
       "      <td>F</td>\n",
       "    </tr>\n",
       "    <tr>\n",
       "      <th>11</th>\n",
       "      <td>24.0</td>\n",
       "      <td>C</td>\n",
       "    </tr>\n",
       "    <tr>\n",
       "      <th>12</th>\n",
       "      <td>52.0</td>\n",
       "      <td>F</td>\n",
       "    </tr>\n",
       "    <tr>\n",
       "      <th>13</th>\n",
       "      <td>19.0</td>\n",
       "      <td>C</td>\n",
       "    </tr>\n",
       "    <tr>\n",
       "      <th>14</th>\n",
       "      <td>18.0</td>\n",
       "      <td>C</td>\n",
       "    </tr>\n",
       "    <tr>\n",
       "      <th>15</th>\n",
       "      <td>28.0</td>\n",
       "      <td>D</td>\n",
       "    </tr>\n",
       "    <tr>\n",
       "      <th>16</th>\n",
       "      <td>15.0</td>\n",
       "      <td>B</td>\n",
       "    </tr>\n",
       "    <tr>\n",
       "      <th>17</th>\n",
       "      <td>19.0</td>\n",
       "      <td>C</td>\n",
       "    </tr>\n",
       "    <tr>\n",
       "      <th>18</th>\n",
       "      <td>40.0</td>\n",
       "      <td>E</td>\n",
       "    </tr>\n",
       "    <tr>\n",
       "      <th>19</th>\n",
       "      <td>28.0</td>\n",
       "      <td>D</td>\n",
       "    </tr>\n",
       "    <tr>\n",
       "      <th>20</th>\n",
       "      <td>49.0</td>\n",
       "      <td>F</td>\n",
       "    </tr>\n",
       "    <tr>\n",
       "      <th>21</th>\n",
       "      <td>8.0</td>\n",
       "      <td>B</td>\n",
       "    </tr>\n",
       "    <tr>\n",
       "      <th>22</th>\n",
       "      <td>37.0</td>\n",
       "      <td>E</td>\n",
       "    </tr>\n",
       "    <tr>\n",
       "      <th>23</th>\n",
       "      <td>30.0</td>\n",
       "      <td>D</td>\n",
       "    </tr>\n",
       "    <tr>\n",
       "      <th>24</th>\n",
       "      <td>27.0</td>\n",
       "      <td>D</td>\n",
       "    </tr>\n",
       "    <tr>\n",
       "      <th>25</th>\n",
       "      <td>NaN</td>\n",
       "      <td>NaN</td>\n",
       "    </tr>\n",
       "    <tr>\n",
       "      <th>26</th>\n",
       "      <td>12.0</td>\n",
       "      <td>B</td>\n",
       "    </tr>\n",
       "    <tr>\n",
       "      <th>27</th>\n",
       "      <td>NaN</td>\n",
       "      <td>NaN</td>\n",
       "    </tr>\n",
       "    <tr>\n",
       "      <th>28</th>\n",
       "      <td>53.0</td>\n",
       "      <td>F</td>\n",
       "    </tr>\n",
       "    <tr>\n",
       "      <th>29</th>\n",
       "      <td>24.0</td>\n",
       "      <td>C</td>\n",
       "    </tr>\n",
       "    <tr>\n",
       "      <th>...</th>\n",
       "      <td>...</td>\n",
       "      <td>...</td>\n",
       "    </tr>\n",
       "    <tr>\n",
       "      <th>22193</th>\n",
       "      <td>12.0</td>\n",
       "      <td>B</td>\n",
       "    </tr>\n",
       "    <tr>\n",
       "      <th>22194</th>\n",
       "      <td>28.0</td>\n",
       "      <td>D</td>\n",
       "    </tr>\n",
       "    <tr>\n",
       "      <th>22195</th>\n",
       "      <td>10.0</td>\n",
       "      <td>B</td>\n",
       "    </tr>\n",
       "    <tr>\n",
       "      <th>22196</th>\n",
       "      <td>51.0</td>\n",
       "      <td>F</td>\n",
       "    </tr>\n",
       "    <tr>\n",
       "      <th>22197</th>\n",
       "      <td>9.0</td>\n",
       "      <td>B</td>\n",
       "    </tr>\n",
       "    <tr>\n",
       "      <th>22198</th>\n",
       "      <td>50.0</td>\n",
       "      <td>F</td>\n",
       "    </tr>\n",
       "    <tr>\n",
       "      <th>22199</th>\n",
       "      <td>34.0</td>\n",
       "      <td>D</td>\n",
       "    </tr>\n",
       "    <tr>\n",
       "      <th>22200</th>\n",
       "      <td>4.0</td>\n",
       "      <td>A</td>\n",
       "    </tr>\n",
       "    <tr>\n",
       "      <th>22201</th>\n",
       "      <td>22.0</td>\n",
       "      <td>C</td>\n",
       "    </tr>\n",
       "    <tr>\n",
       "      <th>22202</th>\n",
       "      <td>4.0</td>\n",
       "      <td>A</td>\n",
       "    </tr>\n",
       "    <tr>\n",
       "      <th>22203</th>\n",
       "      <td>26.0</td>\n",
       "      <td>C</td>\n",
       "    </tr>\n",
       "    <tr>\n",
       "      <th>22204</th>\n",
       "      <td>30.0</td>\n",
       "      <td>D</td>\n",
       "    </tr>\n",
       "    <tr>\n",
       "      <th>22205</th>\n",
       "      <td>23.0</td>\n",
       "      <td>C</td>\n",
       "    </tr>\n",
       "    <tr>\n",
       "      <th>22206</th>\n",
       "      <td>21.0</td>\n",
       "      <td>C</td>\n",
       "    </tr>\n",
       "    <tr>\n",
       "      <th>22207</th>\n",
       "      <td>32.0</td>\n",
       "      <td>D</td>\n",
       "    </tr>\n",
       "    <tr>\n",
       "      <th>22208</th>\n",
       "      <td>48.0</td>\n",
       "      <td>F</td>\n",
       "    </tr>\n",
       "    <tr>\n",
       "      <th>22209</th>\n",
       "      <td>23.0</td>\n",
       "      <td>C</td>\n",
       "    </tr>\n",
       "    <tr>\n",
       "      <th>22210</th>\n",
       "      <td>14.0</td>\n",
       "      <td>B</td>\n",
       "    </tr>\n",
       "    <tr>\n",
       "      <th>22211</th>\n",
       "      <td>22.0</td>\n",
       "      <td>C</td>\n",
       "    </tr>\n",
       "    <tr>\n",
       "      <th>22212</th>\n",
       "      <td>42.0</td>\n",
       "      <td>E</td>\n",
       "    </tr>\n",
       "    <tr>\n",
       "      <th>22213</th>\n",
       "      <td>25.0</td>\n",
       "      <td>C</td>\n",
       "    </tr>\n",
       "    <tr>\n",
       "      <th>22214</th>\n",
       "      <td>13.0</td>\n",
       "      <td>B</td>\n",
       "    </tr>\n",
       "    <tr>\n",
       "      <th>22215</th>\n",
       "      <td>14.0</td>\n",
       "      <td>B</td>\n",
       "    </tr>\n",
       "    <tr>\n",
       "      <th>22216</th>\n",
       "      <td>8.0</td>\n",
       "      <td>B</td>\n",
       "    </tr>\n",
       "    <tr>\n",
       "      <th>22217</th>\n",
       "      <td>35.0</td>\n",
       "      <td>D</td>\n",
       "    </tr>\n",
       "    <tr>\n",
       "      <th>22218</th>\n",
       "      <td>9.0</td>\n",
       "      <td>B</td>\n",
       "    </tr>\n",
       "    <tr>\n",
       "      <th>22219</th>\n",
       "      <td>34.0</td>\n",
       "      <td>D</td>\n",
       "    </tr>\n",
       "    <tr>\n",
       "      <th>22220</th>\n",
       "      <td>15.0</td>\n",
       "      <td>B</td>\n",
       "    </tr>\n",
       "    <tr>\n",
       "      <th>22221</th>\n",
       "      <td>8.0</td>\n",
       "      <td>B</td>\n",
       "    </tr>\n",
       "    <tr>\n",
       "      <th>22222</th>\n",
       "      <td>53.0</td>\n",
       "      <td>F</td>\n",
       "    </tr>\n",
       "  </tbody>\n",
       "</table>\n",
       "<p>22223 rows × 2 columns</p>\n",
       "</div>"
      ],
      "text/plain": [
       "       NEIGHBORHOOD NGROUP\n",
       "0              16.0      C\n",
       "1              35.0      D\n",
       "2              27.0      D\n",
       "3              51.0      F\n",
       "4               4.0      A\n",
       "5              28.0      D\n",
       "6               3.0      A\n",
       "7              32.0      D\n",
       "8              49.0      F\n",
       "9              49.0      F\n",
       "10             52.0      F\n",
       "11             24.0      C\n",
       "12             52.0      F\n",
       "13             19.0      C\n",
       "14             18.0      C\n",
       "15             28.0      D\n",
       "16             15.0      B\n",
       "17             19.0      C\n",
       "18             40.0      E\n",
       "19             28.0      D\n",
       "20             49.0      F\n",
       "21              8.0      B\n",
       "22             37.0      E\n",
       "23             30.0      D\n",
       "24             27.0      D\n",
       "25              NaN    NaN\n",
       "26             12.0      B\n",
       "27              NaN    NaN\n",
       "28             53.0      F\n",
       "29             24.0      C\n",
       "...             ...    ...\n",
       "22193          12.0      B\n",
       "22194          28.0      D\n",
       "22195          10.0      B\n",
       "22196          51.0      F\n",
       "22197           9.0      B\n",
       "22198          50.0      F\n",
       "22199          34.0      D\n",
       "22200           4.0      A\n",
       "22201          22.0      C\n",
       "22202           4.0      A\n",
       "22203          26.0      C\n",
       "22204          30.0      D\n",
       "22205          23.0      C\n",
       "22206          21.0      C\n",
       "22207          32.0      D\n",
       "22208          48.0      F\n",
       "22209          23.0      C\n",
       "22210          14.0      B\n",
       "22211          22.0      C\n",
       "22212          42.0      E\n",
       "22213          25.0      C\n",
       "22214          13.0      B\n",
       "22215          14.0      B\n",
       "22216           8.0      B\n",
       "22217          35.0      D\n",
       "22218           9.0      B\n",
       "22219          34.0      D\n",
       "22220          15.0      B\n",
       "22221           8.0      B\n",
       "22222          53.0      F\n",
       "\n",
       "[22223 rows x 2 columns]"
      ]
     },
     "execution_count": 20,
     "metadata": {},
     "output_type": "execute_result"
    }
   ],
   "source": [
    "pd.concat([df.NEIGHBORHOOD, df.NGROUP], axis=1)"
   ]
  },
  {
   "cell_type": "code",
   "execution_count": 5,
   "metadata": {},
   "outputs": [
    {
     "ename": "SyntaxError",
     "evalue": "invalid syntax (<ipython-input-5-376ff2c8d5e2>, line 1)",
     "output_type": "error",
     "traceback": [
      "\u001b[1;36m  File \u001b[1;32m\"<ipython-input-5-376ff2c8d5e2>\"\u001b[1;36m, line \u001b[1;32m1\u001b[0m\n\u001b[1;33m    df.concat(['TV_REG', 'NGROUP')\u001b[0m\n\u001b[1;37m                                 ^\u001b[0m\n\u001b[1;31mSyntaxError\u001b[0m\u001b[1;31m:\u001b[0m invalid syntax\n"
     ]
    }
   ],
   "source": [
    "df.concat(['TV_REG', 'NGROUP')\n",
    "           \n",
    "           "
   ]
  }
 ],
 "metadata": {
  "kernelspec": {
   "display_name": "Python 3",
   "language": "python",
   "name": "python3"
  },
  "language_info": {
   "codemirror_mode": {
    "name": "ipython",
    "version": 3
   },
   "file_extension": ".py",
   "mimetype": "text/x-python",
   "name": "python",
   "nbconvert_exporter": "python",
   "pygments_lexer": "ipython3",
   "version": "3.6.1"
  }
 },
 "nbformat": 4,
 "nbformat_minor": 2
}
