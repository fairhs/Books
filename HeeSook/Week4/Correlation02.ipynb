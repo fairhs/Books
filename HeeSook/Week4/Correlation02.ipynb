{
 "cells": [
  {
   "cell_type": "code",
   "execution_count": 47,
   "metadata": {},
   "outputs": [
    {
     "name": "stdout",
     "output_type": "stream",
     "text": [
      "<class 'pandas.core.frame.DataFrame'>\n",
      "Int64Index: 22223 entries, 140 to 52856469\n",
      "Data columns (total 17 columns):\n",
      "GENDER          19711 non-null object\n",
      "DOB             22223 non-null object\n",
      "EDATE           22223 non-null object\n",
      "AGE             20715 non-null float64\n",
      "AGEGRP1         20715 non-null object\n",
      "AGEGRP2         20715 non-null object\n",
      "TV_REG          21758 non-null object\n",
      "NGROUP          21549 non-null object\n",
      "NEIGHBORHOOD    21549 non-null float64\n",
      "LCDATE          21942 non-null object\n",
      "ORGANICS        22223 non-null int64\n",
      "BILL            22223 non-null float64\n",
      "REGION          21758 non-null object\n",
      "CLASS           22223 non-null object\n",
      "ORGYN           22223 non-null int64\n",
      "AFFL            21138 non-null float64\n",
      "LTIME           21942 non-null float64\n",
      "dtypes: float64(5), int64(2), object(10)\n",
      "memory usage: 3.1+ MB\n",
      "None\n",
      "<class 'pandas.core.frame.DataFrame'>\n",
      "Int64Index: 22223 entries, 140 to 52856469\n",
      "Columns: 12895 entries, AGE to CLASS_Tin\n",
      "dtypes: bool(2), float64(3), int64(2), uint8(12888)\n",
      "memory usage: 274.2 MB\n",
      "None\n"
     ]
    }
   ],
   "source": [
    "\n",
    "import numpy as np\n",
    "import pandas as pd\n",
    "\n",
    "'''\n",
    "CUSTID          22223 non-null int64\n",
    "GENDER          19711 non-null object\n",
    "DOB             22223 non-null object\n",
    "EDATE           22223 non-null object\n",
    "AGE             20715 non-null float64\n",
    "AGEGRP1         20715 non-null object\n",
    "AGEGRP2         20715 non-null object\n",
    "TV_REG          21758 non-null object\n",
    "NGROUP          21549 non-null object\n",
    "NEIGHBORHOOD    21549 non-null float64\n",
    "LCDATE          21942 non-null object\n",
    "ORGANICS        22223 non-null int64\n",
    "BILL            22223 non-null float64\n",
    "REGION          21758 non-null object\n",
    "CLASS           22223 non-null object\n",
    "ORGYN           22223 non-null int64\n",
    "AFFL            21138 non-null float64\n",
    "LTIME           21942 non-null float64\n",
    "'''\n",
    "def preprocess_data(df):\n",
    "    # Q1.4 and Q6.2\n",
    "       \n",
    "    df = df.drop(['TV_REG','NEIGHBORHOOD', 'LCDATE','LTIME'], axis=1)\n",
    "    \n",
    "    # Q1.1\n",
    "    #cols_miss_drop =['CUSTID', 'TV_REG','NEIGHBORHOOD', 'LCDATE','LTIME']\n",
    "    #mask = pd.isnull(df['Distance'])\n",
    "\n",
    "    #for col in cols_miss_drop:\n",
    "    #    mask = mask | pd.isnull(df[col])\n",
    "\n",
    "  #  df = df[~mask]\n",
    "    \n",
    "    # Q1.2\n",
    "    df['AGE'].fillna(df['AGE'].mean(), inplace=True)\n",
    "    df['ORGANICS'].fillna(df['ORGANICS'].mean(), inplace=True)\n",
    "    \n",
    "    df['AGEGRP1'] = pd.isnull(df['AGEGRP2'])    \n",
    "    df['AGEGRP2'] = pd.isnull(df['AGEGRP1'])\n",
    "    #df['Longtitude_nan'] = pd.isnull(df['Longtitude'])\n",
    "    #df['Lattitude'].fillna(0, inplace=True)\n",
    "    #df['Longtitude'].fillna(0, inplace=True)\n",
    "    \n",
    "    # Q6.1. Change date into weeks and months\n",
    "    #df['Sales_week'] = pd.to_datetime(df['Date']).dt.week\n",
    "    #df['Sales_month'] = pd.to_datetime(df['Date']).dt.month\n",
    "    #df = df.drop(['AGE'], axis=1)  # drop the date, not required anymore\n",
    "    \n",
    "    # Q4\n",
    "    df = pd.get_dummies(df)\n",
    "    \n",
    "    return df\n",
    "\n",
    "Loaded_df = pd.read_csv('datasets/organics.csv',index_col=0)\n",
    "print(Loaded_df.info())\n",
    "prepared_df=preprocess_data(Loaded_df)\n",
    "#prepared_df = preprocess_data(Loaded_df)\n",
    "print(prepared_df.info())"
   ]
  },
  {
   "cell_type": "code",
   "execution_count": null,
   "metadata": {
    "collapsed": true
   },
   "outputs": [],
   "source": [
    "\n",
    "\n",
    "\n"
   ]
  },
  {
   "cell_type": "code",
   "execution_count": null,
   "metadata": {
    "collapsed": true
   },
   "outputs": [],
   "source": [
    "\n",
    "\n",
    "\n"
   ]
  },
  {
   "cell_type": "code",
   "execution_count": null,
   "metadata": {
    "collapsed": true
   },
   "outputs": [],
   "source": []
  }
 ],
 "metadata": {
  "celltoolbar": "Edit Metadata",
  "kernelspec": {
   "display_name": "Python 3",
   "language": "python",
   "name": "python3"
  },
  "language_info": {
   "codemirror_mode": {
    "name": "ipython",
    "version": 3
   },
   "file_extension": ".py",
   "mimetype": "text/x-python",
   "name": "python",
   "nbconvert_exporter": "python",
   "pygments_lexer": "ipython3",
   "version": "3.6.1"
  }
 },
 "nbformat": 4,
 "nbformat_minor": 2
}
