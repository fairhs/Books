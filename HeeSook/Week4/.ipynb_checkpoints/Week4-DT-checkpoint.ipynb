{
 "cells": [
  {
   "cell_type": "code",
   "execution_count": 16,
   "metadata": {
    "scrolled": true
   },
   "outputs": [],
   "source": [
    "import numpy as np\n",
    "import pandas as pd\n",
    "\n",
    "from sklearn.model_selection import train_test_split\n",
    "# import required libraries\n",
    "from sklearn.tree import DecisionTreeClassifier\n",
    "from sklearn.metrics import classification_report, accuracy_score\n",
    "from dm_tools import visualize_decision_tree, analyse_feature_importance  # use the functions we build in the practical\n",
    "\n",
    "def preprocess_data(df):\n",
    "    # Q1.4 and Q6.2\n",
    "       \n",
    "    df = df.drop(['TV_REG','NEIGHBORHOOD', 'LCDATE','LTIME'], axis=1)\n",
    "    \n",
    "    # Q1.1\n",
    "    #cols_miss_drop =['CUSTID', 'TV_REG','NEIGHBORHOOD', 'LCDATE','LTIME']\n",
    "    #mask = pd.isnull(df['Distance'])\n",
    "\n",
    "    #for col in cols_miss_drop:\n",
    "    #    mask = mask | pd.isnull(df[col])\n",
    "\n",
    "  #  df = df[~mask]\n",
    "    \n",
    "    # change DemHomeOwner into binary 0/1 variable\n",
    "    #dem_home_owner_map = {'U':0, 'H': 1}\n",
    "    #df['ORGYN'] = df['ORGYN'].map(dem_home_owner_map)\n",
    "     \n",
    "    # Q1.2\n",
    "    df['AGE'].fillna(df['AGE'].mean(), inplace=True)\n",
    "    \n",
    "    df['CLASS'].fillna(df['AGE'].mean(), inplace=True)\n",
    "    df['ORGANICS'].fillna(df['ORGANICS'].mean(), inplace=True)\n",
    "    df['AGEGRP1'].fillna(df['AGEGRP2'].mean(), inplace=True)\n",
    "    \n",
    "\n",
    "\n",
    "    #df['AGEGRP1'] = pd.isnull(df['AGEGRP2'])    \n",
    "    #df['Longtitude_nan'] = pd.isnull(df['Longtitude'])\n",
    "    #df['Lattitude'].fillna(0, inplace=True)\n",
    "    #df['Longtitude'].fillna(0, inplace=True)\n",
    "    \n",
    "    # Q6.1. Change date into weeks and months\n",
    "    #df['Sales_week'] = pd.to_datetime(df['Date']).dt.week\n",
    "    #df['Sales_month'] = pd.to_datetime(df['Date']).dt.month\n",
    "    #df = df.drop(['AGE'], axis=1)  # drop the date, not required anymore\n",
    "    \n",
    "    # Q4\n",
    "    df = pd.get_dummies(df)\n",
    "    \n",
    "    return df\n",
    "\n",
    "\n",
    "def analyse_feature_importance(dm_model, feature_names, n_to_display=20):\n",
    "    # grab feature importances from the model\n",
    "    importances = dm_model.feature_importances_\n",
    "\n",
    "    # sort them out in descending order\n",
    "    indices = np.argsort(importances)\n",
    "    indices = np.flip(indices, axis=0)\n",
    "\n",
    "    # limit to 20 features, you can leave this out to print out everything\n",
    "    indices = indices[:n_to_display]\n",
    "\n",
    "    for i in indices:\n",
    "       print(feature_names[i], ':', importances[i])\n",
    "\n",
    "    \n",
    "\n",
    "def visualize_decision_tree(dm_model, feature_names, save_name):\n",
    "    import pydot\n",
    "    from io import StringIO\n",
    "    from sklearn.tree import export_graphviz\n",
    "    \n",
    "    dotfile = StringIO()\n",
    "    export_graphviz(dm_model, out_file=dotfile, feature_names=feature_names)\n",
    "    graph = pydot.graph_from_dot_data(dotfile.getvalue())\n",
    "    graph[0].write_png(save_name) # saved in the following file\n",
    "    \n",
    "    \n",
    "    "
   ]
  },
  {
   "cell_type": "code",
   "execution_count": 10,
   "metadata": {},
   "outputs": [
    {
     "name": "stdout",
     "output_type": "stream",
     "text": [
      "<class 'pandas.core.frame.DataFrame'>\n",
      "Int64Index: 22223 entries, 140 to 52856469\n",
      "Data columns (total 17 columns):\n",
      "GENDER          19711 non-null object\n",
      "DOB             22223 non-null object\n",
      "EDATE           22223 non-null object\n",
      "AGE             20715 non-null float64\n",
      "AGEGRP1         20715 non-null object\n",
      "AGEGRP2         20715 non-null object\n",
      "TV_REG          21758 non-null object\n",
      "NGROUP          21549 non-null object\n",
      "NEIGHBORHOOD    21549 non-null float64\n",
      "LCDATE          21942 non-null object\n",
      "ORGANICS        22223 non-null int64\n",
      "BILL            22223 non-null float64\n",
      "REGION          21758 non-null object\n",
      "CLASS           22223 non-null object\n",
      "ORGYN           22223 non-null int64\n",
      "AFFL            21138 non-null float64\n",
      "LTIME           21942 non-null float64\n",
      "dtypes: float64(5), int64(2), object(10)\n",
      "memory usage: 3.1+ MB\n",
      "None\n",
      "<class 'pandas.core.frame.DataFrame'>\n",
      "Int64Index: 22223 entries, 140 to 52856469\n",
      "Columns: 12895 entries, AGE to CLASS_Tin\n",
      "dtypes: bool(2), float64(3), int64(2), uint8(12888)\n",
      "memory usage: 274.2 MB\n",
      "None\n"
     ]
    }
   ],
   "source": [
    "Loaded_df = pd.read_csv('datasets/organics.csv',index_col=0)\n",
    "print(Loaded_df.info())\n",
    "prepared_df=preprocess_data(Loaded_df)\n",
    "print(prepared_df.info())\n",
    "\n",
    "\n",
    "\n"
   ]
  },
  {
   "cell_type": "code",
   "execution_count": 17,
   "metadata": {},
   "outputs": [],
   "source": [
    "rs = 0\n",
    "X = prepared_df.drop(['AGE'], axis=1)\n",
    "y = prepared_df['AGE']\n",
    "\n",
    "X_mat = X.as_matrix()\n",
    "X_train, X_test, y_train, y_test = train_test_split(X_mat, y, test_size=0.3, stratify=y, random_state=rs)"
   ]
  },
  {
   "cell_type": "code",
   "execution_count": null,
   "metadata": {},
   "outputs": [],
   "source": [
    "\n"
   ]
  }
 ],
 "metadata": {
  "kernelspec": {
   "display_name": "Python 3",
   "language": "python",
   "name": "python3"
  },
  "language_info": {
   "codemirror_mode": {
    "name": "ipython",
    "version": 3
   },
   "file_extension": ".py",
   "mimetype": "text/x-python",
   "name": "python",
   "nbconvert_exporter": "python",
   "pygments_lexer": "ipython3",
   "version": "3.6.1"
  }
 },
 "nbformat": 4,
 "nbformat_minor": 2
}
